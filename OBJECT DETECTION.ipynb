{
 "cells": [
  {
   "cell_type": "code",
   "execution_count": 1,
   "id": "dabb4eb6",
   "metadata": {},
   "outputs": [],
   "source": [
    "import cv2\n",
    "import os   # build in python lib to interact with the operating system"
   ]
  },
  {
   "cell_type": "code",
   "execution_count": 2,
   "id": "5afdc759",
   "metadata": {},
   "outputs": [],
   "source": [
    "def extract_frames(video_path,output_folder, frame_rate = 1):\n",
    "    if not os.path.exists(output_folder):\n",
    "        os.makedirs(output_folder)\n",
    "    \n",
    "    cap = cv2.VideoCapture(video_path) # loads your video into opencv\n",
    "    \n",
    "    video_fps = int(cap.get(cv2.CAP_PROP_FPS)) # gets the video frame rate\n",
    "    print(f\"Video FPS: {video_fps}\")\n",
    "    \n",
    "    frame_interval = int(video_fps / frame_rate) # tells us how often to save a frame\n",
    "    frame_count = 0  # total number of frames processed\n",
    "    saved_count = 0  # number of frames actually saved as images\n",
    "    \n",
    "    while cap.isOpened(): # checks that the video file is not closed or corrupted\n",
    "        ret, frame = cap.read() # cap.read() returns two things (ret is a boolean for whether the frame was read successfully or not, frame is the actual image data in numpy array form)\n",
    "        if not ret:   # if frame is not ready successfuly (frames end)\n",
    "            break\n",
    "            \n",
    "        if frame_count % frame_interval == 0 :  # saves only every nth frame \n",
    "            filename = os.path.join(output_folder, f\"frame_{saved_count:04d}.jpg\") # frames are saved as frame_0001.jpg,frame_0002,jpg and so on\n",
    "            cv2.imwrite(filename, frame)\n",
    "            saved_count += 1\n",
    "            \n",
    "        frame_count +=1\n",
    "        \n",
    "    cap.release()   # closes the video file\n",
    "    print(f\"Total frames saved: {saved_count}\")"
   ]
  },
  {
   "cell_type": "code",
   "execution_count": 3,
   "id": "d35e96eb",
   "metadata": {},
   "outputs": [
    {
     "name": "stdout",
     "output_type": "stream",
     "text": [
      "Video FPS: 30\n",
      "Total frames saved: 15\n"
     ]
    }
   ],
   "source": [
    "video_path = \"2025-05-27_13-46-16_UTC.mp4\"\n",
    "output_folder = \"VIDEO FRAMES\"\n",
    "extract_frames(video_path, output_folder, frame_rate = 1)"
   ]
  },
  {
   "cell_type": "code",
   "execution_count": 4,
   "id": "d59db0de",
   "metadata": {},
   "outputs": [
    {
     "name": "stdout",
     "output_type": "stream",
     "text": [
      "Creating new Ultralytics Settings v0.0.6 file  \n",
      "View Ultralytics Settings with 'yolo settings' or at 'C:\\Users\\hp\\AppData\\Roaming\\Ultralytics\\settings.json'\n",
      "Update Settings with 'yolo settings key=value', i.e. 'yolo settings runs_dir=path/to/dir'. For help see https://docs.ultralytics.com/quickstart/#ultralytics-settings.\n"
     ]
    }
   ],
   "source": [
    "from ultralytics import YOLO\n",
    "import torch\n",
    "from torch.serialization import add_safe_globals\n",
    "from ultralytics.nn.tasks import DetectionModel\n",
    "import json # JSON (Javascript Object Notation) is a standard format to store structured data\n",
    "# json module used to save python data to a .json file(dump) and vice versa(load)\n",
    "\n",
    "add_safe_globals([DetectionModel])\n",
    "\n",
    "frames_path = \"VIDEO FRAMES\" # folder where extracted frames are stored\n",
    "output_json = 'detections.json' # this is a filename string will be created later\n",
    "\n",
    "model = YOLO(\"yolov8n.pt\")"
   ]
  },
  {
   "cell_type": "code",
   "execution_count": 12,
   "id": "f7d96590",
   "metadata": {},
   "outputs": [
    {
     "name": "stderr",
     "output_type": "stream",
     "text": [
      "The `max_size` parameter is deprecated and will be removed in v4.26. Please specify in `size['longest_edge'] instead`.\n"
     ]
    }
   ],
   "source": [
    "from transformers import YolosImageProcessor, YolosForObjectDetection\n",
    "from PIL import Image\n",
    "import torch\n",
    "import os\n",
    "import json\n",
    "\n",
    "# Load model and processor\n",
    "processor = YolosImageProcessor.from_pretrained(\"valentinafeve/yolos-fashionpedia\")\n",
    "model = YolosForObjectDetection.from_pretrained(\n",
    "    \"valentinafeve/yolos-fashionpedia\",\n",
    "    trust_remote_code=True,\n",
    "    use_safetensors=True\n",
    ")"
   ]
  },
  {
   "cell_type": "code",
   "execution_count": 13,
   "id": "d02942ea",
   "metadata": {},
   "outputs": [
    {
     "data": {
      "text/plain": [
       "\"for box in results.boxes: # result.boxes is a list of all detected objects in the current frame\\n        cls_id = int(box.cls[0])  # get class ID\\n        class_name = model.names[cls_id] # map ID to name using YOLOv8's build in list\\n        conf = float(box.conf[0]) # confidence score (how sure YOLO is)\\n        x1, y1, x2, y2 = map(int, box.xyxy[0]) # get top left and bottom right of bounding box \\n    \\n        w = x2 - x1\\n        h = y2 - y1\""
      ]
     },
     "execution_count": 13,
     "metadata": {},
     "output_type": "execute_result"
    }
   ],
   "source": [
    "detections = [] # will store all frame wise detections\n",
    "\n",
    "frame_files = sorted(os.listdir(frames_path)) # sort frames numerically (for ease)\n",
    "\n",
    "for i, file in enumerate(frame_files): # enumerate gives you the index(0,1,2) and the filename(frame_0001.jpg)\n",
    "    frame_number = i\n",
    "    img_path = os.path.join(frames_path, file) # to build the full path of a file (joins the folder and the file)\n",
    "    \n",
    "    image = Image.open(img_path)\n",
    "    inputs = processor(images=image, return_tensors=\"pt\")\n",
    "    \n",
    "    with torch.no_grad():\n",
    "        outputs = model(**inputs)\n",
    "        \n",
    "    target_sizes = torch.tensor([image.size[::-1]])  # (H, W)\n",
    "    results = processor.post_process_object_detection(outputs, target_sizes=target_sizes, threshold=0.5)[0]\n",
    "    \n",
    "    \n",
    "    # model(img_path) runs inference on the image\n",
    "   # results = model(img_path)[0] # yolov8 returns multiple things out of which the first will be results.boxes(list of all detections with class, box coordinates and confidence)\n",
    "    \n",
    "    for score, label, box in zip(results[\"scores\"], results[\"labels\"], results[\"boxes\"]):\n",
    "        xmin, ymin, xmax, ymax = box.tolist()\n",
    "        w = xmax - xmin\n",
    "        h = ymax - ymin\n",
    "        \n",
    "        detections.append({\n",
    "            'frame' : frame_number,\n",
    "            'class' : model.config.id2label[label.item()], #class_name\n",
    "            'bbox' : [int(xmin), int(ymin), int(w), int(h)] , #[x1, y1, w, h]\n",
    "            'confidence' :  round(score.item(), 3) # conf\n",
    "        }) \n",
    "    \n",
    "    # each box inside result.boxes contains:\n",
    "    # box.xyxy -> [x1,y1,x2,y2]\n",
    "    # box.conf -> confidence\n",
    "    # box.cls -> class ID\n",
    "\"\"\"for box in results.boxes: # result.boxes is a list of all detected objects in the current frame\n",
    "        cls_id = int(box.cls[0])  # get class ID\n",
    "        class_name = model.names[cls_id] # map ID to name using YOLOv8's build in list\n",
    "        conf = float(box.conf[0]) # confidence score (how sure YOLO is)\n",
    "        x1, y1, x2, y2 = map(int, box.xyxy[0]) # get top left and bottom right of bounding box \n",
    "    \n",
    "        w = x2 - x1\n",
    "        h = y2 - y1\"\"\"\n",
    "\n",
    "\n",
    "    \n",
    "        "
   ]
  },
  {
   "cell_type": "code",
   "execution_count": 14,
   "id": "ad92dba6",
   "metadata": {},
   "outputs": [],
   "source": [
    "with open(output_json,'w') as f:  # this is a python context manager\n",
    "    json.dump(detections, f, indent = 2)\n",
    "    \n",
    "# opens the file in write mode 'w' -> (creates file if not exist, overwrites if exists)\n",
    "# other modes -> 'r' -> read (error if file doesnt exist)\n",
    "# 'a' -> append(creates if not exist,appends if exists)\n",
    "# 'x' -> create(error if already exists)\n",
    "# output_json is taken as f"
   ]
  },
  {
   "cell_type": "code",
   "execution_count": null,
   "id": "077e61f1",
   "metadata": {},
   "outputs": [],
   "source": []
  }
 ],
 "metadata": {
  "kernelspec": {
   "display_name": "Python 3 (ipykernel)",
   "language": "python",
   "name": "python3"
  },
  "language_info": {
   "codemirror_mode": {
    "name": "ipython",
    "version": 3
   },
   "file_extension": ".py",
   "mimetype": "text/x-python",
   "name": "python",
   "nbconvert_exporter": "python",
   "pygments_lexer": "ipython3",
   "version": "3.11.3"
  }
 },
 "nbformat": 4,
 "nbformat_minor": 5
}
