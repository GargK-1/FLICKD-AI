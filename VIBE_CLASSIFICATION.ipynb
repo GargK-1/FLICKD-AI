{
  "nbformat": 4,
  "nbformat_minor": 0,
  "metadata": {
    "colab": {
      "provenance": []
    },
    "kernelspec": {
      "name": "python3",
      "display_name": "Python 3"
    },
    "language_info": {
      "name": "python"
    }
  },
  "cells": [
    {
      "cell_type": "code",
      "execution_count": 4,
      "metadata": {
        "id": "eWmWDppKN1bN"
      },
      "outputs": [],
      "source": [
        "import json\n",
        "\n",
        "# Load vibes list\n",
        "with open(\"vibeslist.json\") as f:\n",
        "    vibes_list = json.load(f)  # json to python format\n",
        "\n",
        "# Rule-based vibe keywords (expand as needed)\n",
        "vibe_keywords = {\n",
        "    \"Coquette\": [\"lace\", \"pink\", \"feminine\", \"bow\", \"girly\"],\n",
        "    \"Clean Girl\": [\"slick hair\", \"minimal\", \"glowy\", \"dewy\", \"simple\"],\n",
        "    \"Cottagecore\": [\"floral\", \"vintage\", \"meadow\", \"farm\", \"nature\", \"cottage\"],\n",
        "    \"Streetcore\": [\"urban\", \"graffiti\", \"sneakers\", \"oversized\", \"streetwear\"],\n",
        "    \"Y2K\": [\"retro\", \"2000s\", \"butterfly clips\", \"low rise\", \"chrome\", \"tech\"],\n",
        "    \"Boho\": [\"fringe\", \"hippie\", \"festival\", \"earthy\", \"loose\", \"natural\"],\n",
        "    \"Party Glam\": [\"sparkle\", \"glitter\", \"high heels\", \"makeup\", \"night out\"]\n",
        "}"
      ]
    },
    {
      "cell_type": "code",
      "source": [
        "import spacy\n",
        "from collections import Counter\n",
        "\n",
        "nlp = spacy.load(\"en_core_web_sm\")  # en_core_web_sm -> spaCy English Model\n",
        "\n",
        "def rule_based_vibes(text):\n",
        "    doc = nlp(text.lower())\n",
        "    counts = Counter()\n",
        "\n",
        "    for vibe, keywords in vibe_keywords.items():\n",
        "        for token in doc:\n",
        "            for kw in keywords:\n",
        "                if kw in token.text:\n",
        "                    counts[vibe] += 1\n",
        "    return counts"
      ],
      "metadata": {
        "id": "NbDCVv2hOWwL"
      },
      "execution_count": 5,
      "outputs": []
    },
    {
      "cell_type": "code",
      "source": [
        "from sentence_transformers import SentenceTransformer, util\n",
        "\n",
        "model = SentenceTransformer('all-MiniLM-L6-v2')  # a small, efficient transformer that generates sentence embeddings.\n",
        "\n",
        "# Precompute vibe embeddings\n",
        "vibe_embeddings = model.encode(vibes_list, convert_to_tensor=True)\n",
        "\n",
        "def ml_based_vibes(text):\n",
        "    text_embedding = model.encode(text, convert_to_tensor=True)\n",
        "    cos_scores = util.pytorch_cos_sim(text_embedding, vibe_embeddings)[0]\n",
        "\n",
        "    scores = {vibe: float(cos_scores[i]) for i, vibe in enumerate(vibes_list)}\n",
        "    return scores"
      ],
      "metadata": {
        "id": "5mcRBw5MOfOx"
      },
      "execution_count": 6,
      "outputs": []
    },
    {
      "cell_type": "code",
      "source": [
        "def classify_vibes(text, rule_weight=0.6, ml_weight=0.4):\n",
        "    rule_scores = rule_based_vibes(text)\n",
        "    ml_scores = ml_based_vibes(text)\n",
        "\n",
        "    final_scores = {}\n",
        "\n",
        "    for vibe in vibes_list:\n",
        "        rule_score = rule_scores.get(vibe, 0)\n",
        "        ml_score = ml_scores.get(vibe, 0.0)\n",
        "        # Combine using weights\n",
        "        final_scores[vibe] = rule_weight * rule_score + ml_weight * ml_score\n",
        "\n",
        "    # Get top 3 vibes\n",
        "    sorted_vibes = sorted(final_scores.items(), key=lambda x: x[1], reverse=True)\n",
        "    return [v for v, s in sorted_vibes[:3] if s > 0]"
      ],
      "metadata": {
        "id": "QmEG6WR5Oieg"
      },
      "execution_count": 7,
      "outputs": []
    },
    {
      "cell_type": "code",
      "source": [
        "caption = \"\"\"Sunkissed Summer has landed.\n",
        "Think golden hour, every hour.\n",
        "\n",
        "Easy silhouettes. Bare shoulders. Dresses that breathe.\n",
        "\n",
        "Made for holiday glow, even if you’re just stepping out for coffee.\"\"\"\n",
        "hashtags = \"\"\n",
        "\n",
        "text_input = caption + \" \" + hashtags  # or add transcript if available\n",
        "\n",
        "predicted_vibes = classify_vibes(text_input)\n",
        "print(\"Predicted Vibes:\", predicted_vibes)"
      ],
      "metadata": {
        "colab": {
          "base_uri": "https://localhost:8080/"
        },
        "id": "fbgrGcavOmgg",
        "outputId": "b44b79b8-a99b-453e-a0a0-6dfad4c3cf5a"
      },
      "execution_count": 11,
      "outputs": [
        {
          "output_type": "stream",
          "name": "stdout",
          "text": [
            "Predicted Vibes: ['Cottagecore', 'Clean Girl', 'Boho']\n"
          ]
        }
      ]
    },
    {
      "cell_type": "code",
      "source": [],
      "metadata": {
        "id": "e8jbzi6RQjvt"
      },
      "execution_count": null,
      "outputs": []
    }
  ]
}